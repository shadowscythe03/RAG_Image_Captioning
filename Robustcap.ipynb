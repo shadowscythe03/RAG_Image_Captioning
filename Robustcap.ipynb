{
 "cells": [
  {
   "cell_type": "code",
   "execution_count": null,
   "id": "ef39e60e",
   "metadata": {},
   "outputs": [],
   "source": [
    "import huggingface_hub\n",
    "from huggingface_hub import "
   ]
  },
  {
   "cell_type": "code",
   "execution_count": null,
   "id": "e01d8667",
   "metadata": {},
   "outputs": [],
   "source": [
    "config = AutoConfig.from_pretrained('lyan62/RobustCap')\n",
    "model = AutoModel.from_pretrained('lyan62/RobustCap')\n",
    "model.config = config"
   ]
  }
 ],
 "metadata": {
  "kernelspec": {
   "display_name": "imgcap",
   "language": "python",
   "name": "python3"
  },
  "language_info": {
   "name": "python",
   "version": "3.13.7"
  }
 },
 "nbformat": 4,
 "nbformat_minor": 5
}
